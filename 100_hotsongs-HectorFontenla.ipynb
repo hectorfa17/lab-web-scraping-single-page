{
 "cells": [
  {
   "cell_type": "markdown",
   "id": "0019f420",
   "metadata": {},
   "source": [
    "# Lab | Web Scraping Single Page"
   ]
  },
  {
   "cell_type": "markdown",
   "id": "c4d1037d",
   "metadata": {},
   "source": [
    "## The goal of this lab is to create a function: scrape_hot100() to scrape the current top 100 songs present at https://www.billboard.com/charts/hot-100 and their respective artists, put the information into a pandas dataframe, and save the dataframe in a csv file in the current folder."
   ]
  },
  {
   "cell_type": "markdown",
   "id": "9bed7d98",
   "metadata": {},
   "source": [
    "### Import libraries"
   ]
  },
  {
   "cell_type": "code",
   "execution_count": 1,
   "id": "08524a89",
   "metadata": {
    "ExecuteTime": {
     "end_time": "2022-05-02T13:57:16.944018Z",
     "start_time": "2022-05-02T13:57:16.003055Z"
    }
   },
   "outputs": [],
   "source": [
    "from bs4 import BeautifulSoup\n",
    "import requests\n",
    "import pandas as pd"
   ]
  },
  {
   "cell_type": "markdown",
   "id": "8e2b7de8",
   "metadata": {},
   "source": [
    "### Connecting to the website:"
   ]
  },
  {
   "cell_type": "code",
   "execution_count": 2,
   "id": "8fdd712f",
   "metadata": {
    "ExecuteTime": {
     "end_time": "2022-05-02T13:57:17.742079Z",
     "start_time": "2022-05-02T13:57:17.417081Z"
    }
   },
   "outputs": [
    {
     "data": {
      "text/plain": [
       "200"
      ]
     },
     "execution_count": 2,
     "metadata": {},
     "output_type": "execute_result"
    }
   ],
   "source": [
    "url = \"https://www.billboard.com/charts/hot-100/\"\n",
    "\n",
    "# Download html with a get request:\n",
    "movies = requests.get(url)\n",
    "movies.status_code # if we get 200 we're good to go"
   ]
  },
  {
   "cell_type": "markdown",
   "id": "a2b7f1d3",
   "metadata": {},
   "source": [
    "### Parsing html to create the soup"
   ]
  },
  {
   "cell_type": "code",
   "execution_count": 3,
   "id": "ba920202",
   "metadata": {
    "ExecuteTime": {
     "end_time": "2022-05-02T13:57:22.415838Z",
     "start_time": "2022-05-02T13:57:21.618837Z"
    }
   },
   "outputs": [],
   "source": [
    "soup = BeautifulSoup(movies.content, 'html.parser')\n",
    "\n",
    "#Check that the html code looks like it should\n",
    "\n",
    "#soup.prettify()"
   ]
  },
  {
   "cell_type": "markdown",
   "id": "830c7bd7",
   "metadata": {},
   "source": [
    "### Getting the song list"
   ]
  },
  {
   "cell_type": "code",
   "execution_count": 9,
   "id": "0fd208e9",
   "metadata": {
    "ExecuteTime": {
     "end_time": "2022-05-02T13:59:24.930682Z",
     "start_time": "2022-05-02T13:59:24.843270Z"
    }
   },
   "outputs": [
    {
     "data": {
      "text/plain": [
       "['As It Was',\n",
       " 'First Class',\n",
       " 'Heat Waves',\n",
       " 'Big Energy',\n",
       " 'Enemy',\n",
       " 'Stay',\n",
       " \"Don't Think Jesus\",\n",
       " 'Woman',\n",
       " 'Super Gremlin',\n",
       " 'Ghost',\n",
       " 'Thats What I Want',\n",
       " 'Bad Habits',\n",
       " 'abcdefu',\n",
       " 'Shivers',\n",
       " 'Cold Heart (PNAU Remix)',\n",
       " 'Easy On Me',\n",
       " 'Need To Know',\n",
       " 'Save Your Tears',\n",
       " 'One Right Now',\n",
       " 'In A Minute',\n",
       " 'Levitating',\n",
       " \"'Til You Can't\",\n",
       " 'Industry Baby',\n",
       " 'MAMIII',\n",
       " 'Bam Bam',\n",
       " 'Hrs And Hrs',\n",
       " \"We Don't Talk About Bruno\",\n",
       " 'Right On',\n",
       " 'Never Say Never',\n",
       " \"Doin' This\",\n",
       " 'Wasted On You',\n",
       " 'AA',\n",
       " 'Good 4 U',\n",
       " 'Sweetest Pie',\n",
       " 'Fingers Crossed',\n",
       " 'I Hate U',\n",
       " 'Boyfriend',\n",
       " 'To The Moon!',\n",
       " 'You Right',\n",
       " 'Numb Little Bug',\n",
       " 'Fancy Like',\n",
       " 'Sand In My Boots',\n",
       " 'What Happened To Virgil',\n",
       " 'Pushin P',\n",
       " 'Beers On Me',\n",
       " 'The Motto',\n",
       " \"She's All I Wanna Be\",\n",
       " \"When You're Gone\",\n",
       " 'Buy Dirt',\n",
       " 'About Damn Time',\n",
       " 'Shake It',\n",
       " 'Light Switch',\n",
       " 'If I Was A Cowboy',\n",
       " 'Peru',\n",
       " 'Flowers',\n",
       " 'Nail Tech',\n",
       " 'Freaky Deaky',\n",
       " '23',\n",
       " 'Trouble With A Heartbreak',\n",
       " 'Broadway Girls',\n",
       " 'Heart On Fire',\n",
       " 'No Love',\n",
       " 'Surface Pressure',\n",
       " 'Slow Down Summer',\n",
       " 'Flower Shops',\n",
       " 'Never Wanted To Be That Girl',\n",
       " 'Me Or Sum',\n",
       " 'Ahhh Ha',\n",
       " 'Give Heaven Some Hell',\n",
       " 'Handsomer',\n",
       " 'Envolver',\n",
       " 'Do We Have A Problem?',\n",
       " 'Get Into It (Yuh)',\n",
       " 'Rumors',\n",
       " 'Take My Name',\n",
       " 'Damn Strait',\n",
       " 'Circles Around This Town',\n",
       " 'In My Head',\n",
       " 'Nobody Like U',\n",
       " 'Soy El Unico',\n",
       " 'I Love You So',\n",
       " 'Come Back As A Country Boy',\n",
       " 'GINE',\n",
       " 'City Of Gods',\n",
       " 'Complete Mess',\n",
       " 'Leave You Alone',\n",
       " 'Bones',\n",
       " 'Banking On Me',\n",
       " 'She Likes It',\n",
       " 'Pressure',\n",
       " 'Desesperados',\n",
       " 'Over',\n",
       " 'The Family Madrigal',\n",
       " 'Hate Our Love',\n",
       " 'Dos Oruguitas',\n",
       " 'P Power',\n",
       " 'Money So Big',\n",
       " 'Blick Blick!',\n",
       " 'Fall In Love',\n",
       " 'X Ultima Vez']"
      ]
     },
     "execution_count": 9,
     "metadata": {},
     "output_type": "execute_result"
    }
   ],
   "source": [
    "songs = []\n",
    "for title in soup.select(\"li.o-chart-results-list__item > h3\"):\n",
    "    songs.append(title.get_text().strip())#strip removes adjacent characters to text \n",
    "    \n",
    "songs"
   ]
  },
  {
   "cell_type": "markdown",
   "id": "62eee781",
   "metadata": {},
   "source": [
    "### Getting the artist list"
   ]
  },
  {
   "cell_type": "code",
   "execution_count": 11,
   "id": "a2e8e6c6",
   "metadata": {
    "ExecuteTime": {
     "end_time": "2022-05-02T14:00:59.863565Z",
     "start_time": "2022-05-02T14:00:59.735771Z"
    }
   },
   "outputs": [],
   "source": [
    "artists = []\n",
    "\n",
    "#created a list of the terms to remove from the 'artists' list:\n",
    "\n",
    "for artist in soup.select(\"li.o-chart-results-list__item > span.c-label\"):\n",
    "    artists.append(artist.get_text().strip())\n",
    "    \n",
    "artists"
   ]
  },
  {
   "cell_type": "markdown",
   "id": "72e9c692",
   "metadata": {},
   "source": [
    "We have to clean the list we got because there are some redundant numbers, dashes and text:"
   ]
  },
  {
   "cell_type": "code",
   "execution_count": 13,
   "id": "68dcfedb",
   "metadata": {
    "ExecuteTime": {
     "end_time": "2022-05-02T14:03:39.332964Z",
     "start_time": "2022-05-02T14:03:39.327254Z"
    }
   },
   "outputs": [],
   "source": [
    "artists = [number for number in artists if not number.isdigit()]\n",
    "\n",
    "removal = ['-','NEW','RE-\\nENTRY']\n",
    "\n",
    "for items in artists:\n",
    "    for x in removal:\n",
    "        if x in artists:\n",
    "            artists.remove(x)"
   ]
  },
  {
   "cell_type": "markdown",
   "id": "4d8e9364",
   "metadata": {},
   "source": [
    "### Creating a DataFrame adding both lists as columns"
   ]
  },
  {
   "cell_type": "code",
   "execution_count": 14,
   "id": "46a55ea9",
   "metadata": {
    "ExecuteTime": {
     "end_time": "2022-05-02T14:03:43.991469Z",
     "start_time": "2022-05-02T14:03:43.971830Z"
    }
   },
   "outputs": [
    {
     "data": {
      "text/html": [
       "<div>\n",
       "<style scoped>\n",
       "    .dataframe tbody tr th:only-of-type {\n",
       "        vertical-align: middle;\n",
       "    }\n",
       "\n",
       "    .dataframe tbody tr th {\n",
       "        vertical-align: top;\n",
       "    }\n",
       "\n",
       "    .dataframe thead th {\n",
       "        text-align: right;\n",
       "    }\n",
       "</style>\n",
       "<table border=\"1\" class=\"dataframe\">\n",
       "  <thead>\n",
       "    <tr style=\"text-align: right;\">\n",
       "      <th></th>\n",
       "      <th>songs</th>\n",
       "      <th>artists</th>\n",
       "    </tr>\n",
       "  </thead>\n",
       "  <tbody>\n",
       "    <tr>\n",
       "      <th>0</th>\n",
       "      <td>As It Was</td>\n",
       "      <td>Harry Styles</td>\n",
       "    </tr>\n",
       "    <tr>\n",
       "      <th>1</th>\n",
       "      <td>First Class</td>\n",
       "      <td>Jack Harlow</td>\n",
       "    </tr>\n",
       "    <tr>\n",
       "      <th>2</th>\n",
       "      <td>Heat Waves</td>\n",
       "      <td>Glass Animals</td>\n",
       "    </tr>\n",
       "    <tr>\n",
       "      <th>3</th>\n",
       "      <td>Big Energy</td>\n",
       "      <td>Latto</td>\n",
       "    </tr>\n",
       "    <tr>\n",
       "      <th>4</th>\n",
       "      <td>Enemy</td>\n",
       "      <td>Imagine Dragons X JID</td>\n",
       "    </tr>\n",
       "    <tr>\n",
       "      <th>...</th>\n",
       "      <td>...</td>\n",
       "      <td>...</td>\n",
       "    </tr>\n",
       "    <tr>\n",
       "      <th>95</th>\n",
       "      <td>P Power</td>\n",
       "      <td>Gunna Featuring Drake</td>\n",
       "    </tr>\n",
       "    <tr>\n",
       "      <th>96</th>\n",
       "      <td>Money So Big</td>\n",
       "      <td>Yeat</td>\n",
       "    </tr>\n",
       "    <tr>\n",
       "      <th>97</th>\n",
       "      <td>Blick Blick!</td>\n",
       "      <td>Coi Leray &amp; Nicki Minaj</td>\n",
       "    </tr>\n",
       "    <tr>\n",
       "      <th>98</th>\n",
       "      <td>Fall In Love</td>\n",
       "      <td>Bailey Zimmerman</td>\n",
       "    </tr>\n",
       "    <tr>\n",
       "      <th>99</th>\n",
       "      <td>X Ultima Vez</td>\n",
       "      <td>Daddy Yankee &amp; Bad Bunny</td>\n",
       "    </tr>\n",
       "  </tbody>\n",
       "</table>\n",
       "<p>100 rows × 2 columns</p>\n",
       "</div>"
      ],
      "text/plain": [
       "           songs                   artists\n",
       "0      As It Was              Harry Styles\n",
       "1    First Class               Jack Harlow\n",
       "2     Heat Waves             Glass Animals\n",
       "3     Big Energy                     Latto\n",
       "4          Enemy     Imagine Dragons X JID\n",
       "..           ...                       ...\n",
       "95       P Power     Gunna Featuring Drake\n",
       "96  Money So Big                      Yeat\n",
       "97  Blick Blick!   Coi Leray & Nicki Minaj\n",
       "98  Fall In Love          Bailey Zimmerman\n",
       "99  X Ultima Vez  Daddy Yankee & Bad Bunny\n",
       "\n",
       "[100 rows x 2 columns]"
      ]
     },
     "execution_count": 14,
     "metadata": {},
     "output_type": "execute_result"
    }
   ],
   "source": [
    "hot100_df = pd.DataFrame({\"songs\": songs, \"artists\": artists})\n",
    "hot100_df"
   ]
  },
  {
   "cell_type": "markdown",
   "id": "15e2dd3c",
   "metadata": {
    "ExecuteTime": {
     "end_time": "2022-05-02T14:05:05.687402Z",
     "start_time": "2022-05-02T14:05:05.679766Z"
    }
   },
   "source": [
    "### Creating a custom function with all the steps we performed before"
   ]
  },
  {
   "cell_type": "code",
   "execution_count": 16,
   "id": "a48dc187",
   "metadata": {
    "ExecuteTime": {
     "end_time": "2022-05-02T14:05:21.383700Z",
     "start_time": "2022-05-02T14:05:21.375268Z"
    }
   },
   "outputs": [],
   "source": [
    "def hot100(link):\n",
    "    from bs4 import BeautifulSoup\n",
    "    import requests\n",
    "    import pandas as pd\n",
    "    \n",
    "    music = requests.get(link)\n",
    "    soup = BeautifulSoup(music.content, 'html.parser')\n",
    "    \n",
    "    songs = []\n",
    "    for title in soup.select(\"li.o-chart-results-list__item > h3\"):\n",
    "        songs.append(title.get_text().strip())#strip removes adjacent characters to text \n",
    "    \n",
    "    artists = []\n",
    "    \n",
    "    for artist in soup.select(\"li.o-chart-results-list__item > span.c-label\"):\n",
    "        artists.append(artist.get_text().strip())\n",
    "\n",
    "    artists = [number for number in artists if not number.isdigit()]\n",
    "    \n",
    "    removal = ['-','NEW','RE-\\nENTRY']\n",
    "\n",
    "    for items in artists:\n",
    "        for x in removal:\n",
    "            if x in artists:\n",
    "                artists.remove(x)\n",
    "\n",
    "    hot100 = pd.DataFrame({\"songs\": songs, \"artists\": artists})\n",
    "    \n",
    "    hot100.to_csv(\"hot100.csv\", index=False)\n",
    "    \n",
    "    return hot100"
   ]
  },
  {
   "cell_type": "code",
   "execution_count": 17,
   "id": "629d221d",
   "metadata": {
    "ExecuteTime": {
     "end_time": "2022-05-02T14:05:25.181076Z",
     "start_time": "2022-05-02T14:05:23.479978Z"
    }
   },
   "outputs": [
    {
     "data": {
      "text/html": [
       "<div>\n",
       "<style scoped>\n",
       "    .dataframe tbody tr th:only-of-type {\n",
       "        vertical-align: middle;\n",
       "    }\n",
       "\n",
       "    .dataframe tbody tr th {\n",
       "        vertical-align: top;\n",
       "    }\n",
       "\n",
       "    .dataframe thead th {\n",
       "        text-align: right;\n",
       "    }\n",
       "</style>\n",
       "<table border=\"1\" class=\"dataframe\">\n",
       "  <thead>\n",
       "    <tr style=\"text-align: right;\">\n",
       "      <th></th>\n",
       "      <th>songs</th>\n",
       "      <th>artists</th>\n",
       "    </tr>\n",
       "  </thead>\n",
       "  <tbody>\n",
       "    <tr>\n",
       "      <th>0</th>\n",
       "      <td>As It Was</td>\n",
       "      <td>Harry Styles</td>\n",
       "    </tr>\n",
       "    <tr>\n",
       "      <th>1</th>\n",
       "      <td>First Class</td>\n",
       "      <td>Jack Harlow</td>\n",
       "    </tr>\n",
       "    <tr>\n",
       "      <th>2</th>\n",
       "      <td>Heat Waves</td>\n",
       "      <td>Glass Animals</td>\n",
       "    </tr>\n",
       "    <tr>\n",
       "      <th>3</th>\n",
       "      <td>Big Energy</td>\n",
       "      <td>Latto</td>\n",
       "    </tr>\n",
       "    <tr>\n",
       "      <th>4</th>\n",
       "      <td>Enemy</td>\n",
       "      <td>Imagine Dragons X JID</td>\n",
       "    </tr>\n",
       "    <tr>\n",
       "      <th>...</th>\n",
       "      <td>...</td>\n",
       "      <td>...</td>\n",
       "    </tr>\n",
       "    <tr>\n",
       "      <th>95</th>\n",
       "      <td>P Power</td>\n",
       "      <td>Gunna Featuring Drake</td>\n",
       "    </tr>\n",
       "    <tr>\n",
       "      <th>96</th>\n",
       "      <td>Money So Big</td>\n",
       "      <td>Yeat</td>\n",
       "    </tr>\n",
       "    <tr>\n",
       "      <th>97</th>\n",
       "      <td>Blick Blick!</td>\n",
       "      <td>Coi Leray &amp; Nicki Minaj</td>\n",
       "    </tr>\n",
       "    <tr>\n",
       "      <th>98</th>\n",
       "      <td>Fall In Love</td>\n",
       "      <td>Bailey Zimmerman</td>\n",
       "    </tr>\n",
       "    <tr>\n",
       "      <th>99</th>\n",
       "      <td>X Ultima Vez</td>\n",
       "      <td>Daddy Yankee &amp; Bad Bunny</td>\n",
       "    </tr>\n",
       "  </tbody>\n",
       "</table>\n",
       "<p>100 rows × 2 columns</p>\n",
       "</div>"
      ],
      "text/plain": [
       "           songs                   artists\n",
       "0      As It Was              Harry Styles\n",
       "1    First Class               Jack Harlow\n",
       "2     Heat Waves             Glass Animals\n",
       "3     Big Energy                     Latto\n",
       "4          Enemy     Imagine Dragons X JID\n",
       "..           ...                       ...\n",
       "95       P Power     Gunna Featuring Drake\n",
       "96  Money So Big                      Yeat\n",
       "97  Blick Blick!   Coi Leray & Nicki Minaj\n",
       "98  Fall In Love          Bailey Zimmerman\n",
       "99  X Ultima Vez  Daddy Yankee & Bad Bunny\n",
       "\n",
       "[100 rows x 2 columns]"
      ]
     },
     "execution_count": 17,
     "metadata": {},
     "output_type": "execute_result"
    }
   ],
   "source": [
    "hot100_df = hot100(\"https://www.billboard.com/charts/hot-100/\")\n",
    "hot100_df"
   ]
  }
 ],
 "metadata": {
  "kernelspec": {
   "display_name": "Python 3 (ipykernel)",
   "language": "python",
   "name": "python3"
  },
  "language_info": {
   "codemirror_mode": {
    "name": "ipython",
    "version": 3
   },
   "file_extension": ".py",
   "mimetype": "text/x-python",
   "name": "python",
   "nbconvert_exporter": "python",
   "pygments_lexer": "ipython3",
   "version": "3.9.12"
  },
  "toc": {
   "base_numbering": 1,
   "nav_menu": {},
   "number_sections": true,
   "sideBar": true,
   "skip_h1_title": false,
   "title_cell": "Table of Contents",
   "title_sidebar": "Contents",
   "toc_cell": false,
   "toc_position": {},
   "toc_section_display": true,
   "toc_window_display": false
  }
 },
 "nbformat": 4,
 "nbformat_minor": 5
}
